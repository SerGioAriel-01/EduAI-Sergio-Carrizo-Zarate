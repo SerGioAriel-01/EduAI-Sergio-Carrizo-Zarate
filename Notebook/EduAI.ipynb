{
  "metadata": {
    "kernelspec": {
      "name": "python",
      "display_name": "Python (Pyodide)",
      "language": "python"
    },
    "language_info": {
      "codemirror_mode": {
        "name": "python",
        "version": 3
      },
      "file_extension": ".py",
      "mimetype": "text/x-python",
      "name": "python",
      "nbconvert_exporter": "python",
      "pygments_lexer": "ipython3",
      "version": "3.8"
    }
  },
  "nbformat_minor": 4,
  "nbformat": 4,
  "cells": [
    {
      "cell_type": "code",
      "source": "# Importación de librerías necesarias\n# Nota: Solo si tu proyecto requiere que lo instales\nimport openai\n\n# Configuración de la API Key\n# Inserte su api_key \nopenai.api_key = \"inserte_su_api_key\"\n\n# Función para generar explicaciones\ndef generar_explicacion(tema, nivel):\n    prompt = f\"Genera una explicación detallada sobre {tema} para un estudiante de nivel {nivel}.\"\n    respuesta = openai.Completion.create(\n        engine=\"text-davinci-003\",\n        prompt=prompt,\n        max_tokens=150,\n        n=1,\n        stop=None,\n        temperature=0.7,\n    )\n    return respuesta.choices[0].text.strip()\n\n# Función para generar imágenes\ndef generar_imagen(descripcion):\n    prompt = f\"Crea un diagrama que ilustre {descripcion}\"\n    respuesta = openai.Image.create(\n        prompt=prompt,\n        n=1,\n        size=\"1024x1024\"\n    )\n    url_imagen = respuesta['data'][0]['url']\n    return url_imagen\n\n# Función para generar recurso educativo completo\ndef generar_recurso_educativo(tema, nivel):\n    explicacion = generar_explicacion(tema, nivel)\n    imagen_url = generar_imagen(tema)\n    recurso = {\n        \"explicacion\": explicacion,\n        \"imagen\": imagen_url\n    }\n    return recurso\n\n# Ejemplo de uso\ntema = \"la fotosíntesis\"\nnivel = \"secundario\"\nrecurso_educativo = generar_recurso_educativo(tema, nivel)\n\nprint(f\"Explicación: {recurso_educativo['explicacion']}\")\nprint(f\"Imagen: {recurso_educativo['imagen']}\")",
      "metadata": {
        "trusted": true
      },
      "outputs": [],
      "execution_count": null
    }
  ]
}